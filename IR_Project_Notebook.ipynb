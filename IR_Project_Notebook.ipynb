{
 "cells": [
  {
   "attachments": {},
   "cell_type": "markdown",
   "metadata": {
    "collapsed": false
   },
   "source": [
    "## 1-Loading and visualizing the dataset:"
   ]
  },
  {
   "cell_type": "code",
   "execution_count": 3,
   "metadata": {
    "collapsed": true
   },
   "outputs": [
    {
     "name": "stdout",
     "output_type": "stream",
     "text": [
      "   publish_date                                      headline_text  \\\n",
      "0      20030219  aba decides against community broadcasting lic...   \n",
      "1      20030219     act fire witnesses must be aware of defamation   \n",
      "2      20030219     a g calls for infrastructure protection summit   \n",
      "3      20030219           air nz staff in aust strike for pay rise   \n",
      "4      20030219      air nz strike to affect australian travellers   \n",
      "\n",
      "                                                link  \n",
      "0  https://discover.abc.net.au/index.html#/?query...  \n",
      "1  https://discover.abc.net.au/index.html#/?query...  \n",
      "2  https://discover.abc.net.au/index.html#/?query...  \n",
      "3  https://discover.abc.net.au/index.html#/?query...  \n",
      "4  https://discover.abc.net.au/index.html#/?query...  \n"
     ]
    }
   ],
   "source": [
    "import pandas as pd\n",
    "\n",
    "# Load the dataset\n",
    "data = pd.read_csv('/FSM/S2/NLP_WebMining/IRProject_ABCnewsDataset/searsh/abcnews-date-text.csv')\n",
    "\n",
    "# Visualize the dataset\n",
    "print(data.head())"
   ]
  },
  {
   "cell_type": "code",
   "execution_count": 4,
   "metadata": {
    "collapsed": false
   },
   "outputs": [
    {
     "name": "stdout",
     "output_type": "stream",
     "text": [
      "<class 'pandas.core.frame.DataFrame'>\n",
      "RangeIndex: 1244184 entries, 0 to 1244183\n",
      "Data columns (total 3 columns):\n",
      " #   Column         Non-Null Count    Dtype \n",
      "---  ------         --------------    ----- \n",
      " 0   publish_date   1244184 non-null  int64 \n",
      " 1   headline_text  1244184 non-null  object\n",
      " 2   link           1244184 non-null  object\n",
      "dtypes: int64(1), object(2)\n",
      "memory usage: 28.5+ MB\n"
     ]
    }
   ],
   "source": [
    "data.info()"
   ]
  },
  {
   "attachments": {},
   "cell_type": "markdown",
   "metadata": {
    "collapsed": false
   },
   "source": [
    "## 2-Preprocessing the dataset:"
   ]
  },
  {
   "cell_type": "code",
   "execution_count": 6,
   "metadata": {
    "collapsed": false
   },
   "outputs": [],
   "source": [
    "import re\n",
    "import nltk\n",
    "from nltk.corpus import stopwords\n",
    "from nltk.stem import PorterStemmer\n",
    "stemmer = PorterStemmer()\n",
    "\n",
    "# Preprocessing function\n",
    "def preprocess(text):\n",
    "    text = text.lower() # convert to lowercase\n",
    "    text = re.sub(r'\\d+', '', text) # remove digits\n",
    "    text = re.sub(r'[^\\w\\s]', '', text) # remove punctuation\n",
    "    stop_words = set(stopwords.words('english'))\n",
    "    tokens = nltk.word_tokenize(text) # tokenization\n",
    "    tokens = [stemmer.stem(w) for w in tokens if not w in stop_words] # remove stopwords and stemming (les réduire à leur forme de base)\n",
    "    return ' '.join(tokens)\n",
    "\n",
    "# Apply preprocessing function to the headline_text column\n",
    "data['clean_headline_text'] = [preprocess(text) for text in data['headline_text']]\n"
   ]
  },
  {
   "cell_type": "code",
   "execution_count": 8,
   "metadata": {
    "collapsed": false
   },
   "outputs": [
    {
     "data": {
      "text/html": [
       "<div>\n",
       "<style scoped>\n",
       "    .dataframe tbody tr th:only-of-type {\n",
       "        vertical-align: middle;\n",
       "    }\n",
       "\n",
       "    .dataframe tbody tr th {\n",
       "        vertical-align: top;\n",
       "    }\n",
       "\n",
       "    .dataframe thead th {\n",
       "        text-align: right;\n",
       "    }\n",
       "</style>\n",
       "<table border=\"1\" class=\"dataframe\">\n",
       "  <thead>\n",
       "    <tr style=\"text-align: right;\">\n",
       "      <th></th>\n",
       "      <th>publish_date</th>\n",
       "      <th>headline_text</th>\n",
       "      <th>link</th>\n",
       "      <th>clean_headline_text</th>\n",
       "    </tr>\n",
       "  </thead>\n",
       "  <tbody>\n",
       "    <tr>\n",
       "      <th>0</th>\n",
       "      <td>20030219</td>\n",
       "      <td>aba decides against community broadcasting lic...</td>\n",
       "      <td>https://discover.abc.net.au/index.html#/?query...</td>\n",
       "      <td>aba decid commun broadcast licenc</td>\n",
       "    </tr>\n",
       "    <tr>\n",
       "      <th>1</th>\n",
       "      <td>20030219</td>\n",
       "      <td>act fire witnesses must be aware of defamation</td>\n",
       "      <td>https://discover.abc.net.au/index.html#/?query...</td>\n",
       "      <td>act fire wit must awar defam</td>\n",
       "    </tr>\n",
       "    <tr>\n",
       "      <th>2</th>\n",
       "      <td>20030219</td>\n",
       "      <td>a g calls for infrastructure protection summit</td>\n",
       "      <td>https://discover.abc.net.au/index.html#/?query...</td>\n",
       "      <td>g call infrastructur protect summit</td>\n",
       "    </tr>\n",
       "    <tr>\n",
       "      <th>3</th>\n",
       "      <td>20030219</td>\n",
       "      <td>air nz staff in aust strike for pay rise</td>\n",
       "      <td>https://discover.abc.net.au/index.html#/?query...</td>\n",
       "      <td>air nz staff aust strike pay rise</td>\n",
       "    </tr>\n",
       "    <tr>\n",
       "      <th>4</th>\n",
       "      <td>20030219</td>\n",
       "      <td>air nz strike to affect australian travellers</td>\n",
       "      <td>https://discover.abc.net.au/index.html#/?query...</td>\n",
       "      <td>air nz strike affect australian travel</td>\n",
       "    </tr>\n",
       "  </tbody>\n",
       "</table>\n",
       "</div>"
      ],
      "text/plain": [
       "   publish_date                                      headline_text  \\\n",
       "0      20030219  aba decides against community broadcasting lic...   \n",
       "1      20030219     act fire witnesses must be aware of defamation   \n",
       "2      20030219     a g calls for infrastructure protection summit   \n",
       "3      20030219           air nz staff in aust strike for pay rise   \n",
       "4      20030219      air nz strike to affect australian travellers   \n",
       "\n",
       "                                                link  \\\n",
       "0  https://discover.abc.net.au/index.html#/?query...   \n",
       "1  https://discover.abc.net.au/index.html#/?query...   \n",
       "2  https://discover.abc.net.au/index.html#/?query...   \n",
       "3  https://discover.abc.net.au/index.html#/?query...   \n",
       "4  https://discover.abc.net.au/index.html#/?query...   \n",
       "\n",
       "                      clean_headline_text  \n",
       "0       aba decid commun broadcast licenc  \n",
       "1            act fire wit must awar defam  \n",
       "2     g call infrastructur protect summit  \n",
       "3       air nz staff aust strike pay rise  \n",
       "4  air nz strike affect australian travel  "
      ]
     },
     "execution_count": 8,
     "metadata": {},
     "output_type": "execute_result"
    }
   ],
   "source": [
    "# Visualize preprocessed dataset\n",
    "data.head()"
   ]
  },
  {
   "attachments": {},
   "cell_type": "markdown",
   "metadata": {
    "collapsed": false
   },
   "source": [
    "## 3-Vectorizing the preprocessed text using TF-IDF:"
   ]
  },
  {
   "cell_type": "code",
   "execution_count": 9,
   "metadata": {
    "collapsed": false
   },
   "outputs": [
    {
     "name": "stdout",
     "output_type": "stream",
     "text": [
      "(1244184, 73270)\n"
     ]
    }
   ],
   "source": [
    "from sklearn.feature_extraction.text import TfidfVectorizer\n",
    "\n",
    "# Create TfidfVectorizer object\n",
    "vectorizer = TfidfVectorizer()\n",
    "\n",
    "# Vectorize preprocessed text\n",
    "vectors = vectorizer.fit_transform(data['clean_headline_text'])\n",
    "\n",
    "# Visualize vectorized dataset\n",
    "print(vectors.shape)"
   ]
  },
  {
   "attachments": {},
   "cell_type": "markdown",
   "metadata": {
    "collapsed": false
   },
   "source": [
    "## 4-Building the NearestNeighbors model:"
   ]
  },
  {
   "cell_type": "code",
   "execution_count": 10,
   "metadata": {
    "collapsed": false
   },
   "outputs": [
    {
     "data": {
      "text/plain": [
       "NearestNeighbors(metric='cosine', n_neighbors=10)"
      ]
     },
     "execution_count": 10,
     "metadata": {},
     "output_type": "execute_result"
    }
   ],
   "source": [
    "from sklearn.neighbors import NearestNeighbors\n",
    "\n",
    "# Create NearestNeighbors object\n",
    "knn = NearestNeighbors(n_neighbors=10, metric='cosine')\n",
    "\n",
    "# Fit vectorized data to NearestNeighbors model\n",
    "knn.fit(vectors)\n"
   ]
  },
  {
   "attachments": {},
   "cell_type": "markdown",
   "metadata": {
    "collapsed": false
   },
   "source": [
    "## 5-Saving the model and vectorizer:"
   ]
  },
  {
   "cell_type": "code",
   "execution_count": null,
   "metadata": {
    "collapsed": false
   },
   "outputs": [],
   "source": [
    "# saving the model\n",
    "import pickle\n",
    "pickle.dump(knn, open('IRmodel.pkl','wb'))"
   ]
  },
  {
   "cell_type": "code",
   "execution_count": null,
   "metadata": {
    "collapsed": false
   },
   "outputs": [],
   "source": [
    "# saving the vectorizer\n",
    "with open('vectorizer.pkl','wb') as f:\n",
    "    pickle.dump(vectorizer,f)"
   ]
  },
  {
   "attachments": {},
   "cell_type": "markdown",
   "metadata": {
    "collapsed": false
   },
   "source": [
    "## 6-testing examples:"
   ]
  },
  {
   "cell_type": "code",
   "execution_count": 11,
   "metadata": {
    "collapsed": false
   },
   "outputs": [],
   "source": [
    "# Example query\n",
    "query = 'football player'\n",
    "\n",
    "\n",
    "def search(query):\n",
    "    # Preprocess query\n",
    "    query = preprocess(query)\n",
    "\n",
    "    # Vectorize query\n",
    "    query_vector = vectorizer.transform([query])\n",
    "\n",
    "    # Find the k nearest neighbors to the query\n",
    "    distances, indices = knn.kneighbors(query_vector)\n",
    "\n",
    "    # Print the most relevant documents\n",
    "    for i, index in enumerate(indices[0]):\n",
    "        print(f'Top document {i+1} : DATE = {data.iloc[index][\"publish_date\"]} ')\n",
    "        print(data.iloc[index]['headline_text'])\n",
    "        print('\\n')"
   ]
  },
  {
   "cell_type": "code",
   "execution_count": 12,
   "metadata": {
    "collapsed": false
   },
   "outputs": [
    {
     "name": "stdout",
     "output_type": "stream",
     "text": [
      "Top document 1 : DATE = 20120228 \n",
      "football community mourns player\n",
      "\n",
      "\n",
      "Top document 2 : DATE = 20041109 \n",
      "football player murder trial begins\n",
      "\n",
      "\n",
      "Top document 3 : DATE = 20080512 \n",
      "sa players defend football park\n",
      "\n",
      "\n",
      "Top document 4 : DATE = 20100906 \n",
      "broken hill football players await best player\n",
      "\n",
      "\n",
      "Top document 5 : DATE = 20091027 \n",
      "football players charged over alleged rapes\n",
      "\n",
      "\n",
      "Top document 6 : DATE = 20140116 \n",
      "date set for football player in court\n",
      "\n",
      "\n",
      "Top document 7 : DATE = 20191010 \n",
      "football violence leaves players in fear\n",
      "\n",
      "\n",
      "Top document 8 : DATE = 20030725 \n",
      "indigenous football players to show off skills\n",
      "\n",
      "\n",
      "Top document 9 : DATE = 20100708 \n",
      "football team wins gold after players death\n",
      "\n",
      "\n",
      "Top document 10 : DATE = 20110527 \n",
      "afl player moves to american football\n",
      "\n",
      "\n"
     ]
    }
   ],
   "source": [
    "search(query)"
   ]
  },
  {
   "cell_type": "code",
   "execution_count": null,
   "metadata": {},
   "outputs": [],
   "source": []
  }
 ],
 "metadata": {
  "kernelspec": {
   "display_name": "Python 3",
   "language": "python",
   "name": "python3"
  },
  "language_info": {
   "codemirror_mode": {
    "name": "ipython",
    "version": 3
   },
   "file_extension": ".py",
   "mimetype": "text/x-python",
   "name": "python",
   "nbconvert_exporter": "python",
   "pygments_lexer": "ipython3",
   "version": "3.9.15"
  }
 },
 "nbformat": 4,
 "nbformat_minor": 0
}
