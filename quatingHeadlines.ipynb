{
 "cells": [
  {
   "cell_type": "code",
   "execution_count": null,
   "metadata": {},
   "outputs": [],
   "source": [
    "from urllib.parse import quote\n",
    "import csv\n",
    "\n",
    "\n",
    "def quoting_headline(headline):\n",
    "    query = quote(headline)\n",
    "    print(query)\n",
    "    url = \"https://discover.abc.net.au/index.html#/?query=\" + query + \"&page=1\"\n",
    "    return url\n",
    "\n",
    "\n",
    "def add_links_to_csv(input_file, output_file):\n",
    "    # Open the input file for reading and the output file for writing\n",
    "    with open(input_file, 'r') as csvfile, open(output_file, 'w', newline='') as outfile:\n",
    "        reader = csv.DictReader(csvfile)\n",
    "        fieldnames = reader.fieldnames + ['link']  # Add a new field for the link\n",
    "        writer = csv.DictWriter(outfile, fieldnames=fieldnames)\n",
    "        writer.writeheader()\n",
    "\n",
    "        # Process each row in the input file\n",
    "        for row in reader:\n",
    "            # Get the link for the current headline\n",
    "            link = quoting_headline(row['headline_text'])\n",
    "            # Add the link to the row and write it to the output file\n",
    "            row['link'] = link\n",
    "            writer.writerow(row)\n",
    "\n",
    "# Example usage\n",
    "add_links_to_csv('abcnews-date-text.csv', 'abcnews-date-text-with-links.csv')"
   ]
  }
 ],
 "metadata": {
  "kernelspec": {
   "display_name": "base",
   "language": "python",
   "name": "python3"
  },
  "language_info": {
   "codemirror_mode": {
    "name": "ipython",
    "version": 3
   },
   "file_extension": ".py",
   "mimetype": "text/x-python",
   "name": "python",
   "nbconvert_exporter": "python",
   "pygments_lexer": "ipython3",
   "version": "3.9.15"
  },
  "orig_nbformat": 4
 },
 "nbformat": 4,
 "nbformat_minor": 2
}
